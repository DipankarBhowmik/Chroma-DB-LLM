{
 "cells": [
  {
   "cell_type": "code",
   "execution_count": 11,
   "id": "de297a4f-cafc-47b2-960f-7dcc41d24ffd",
   "metadata": {},
   "outputs": [],
   "source": [
    "#cleaned_lines"
   ]
  },
  {
   "cell_type": "code",
   "execution_count": null,
   "id": "697b86b7-0892-4c70-b75a-2aa3d0842f18",
   "metadata": {},
   "outputs": [],
   "source": [
    "#pip install \"PyPDF2\" \"chromadb==0.4.0\" \"fastapi<2.0.0\" \"langchain==0.2.0\" \"pydantic==1.10.19\" \"langchain-community\" \"sentence-transformers\" "
   ]
  },
  {
   "cell_type": "code",
   "execution_count": 1,
   "id": "51fc33e1-649d-4b74-aee1-edfa65f5a71d",
   "metadata": {},
   "outputs": [],
   "source": [
    "from PyPDF2 import PdfReader\n",
    "def read_pdf(file_path):\n",
    "    # Initialize the reader for the PDF file\n",
    "    \n",
    "    reader = PdfReader(file_path)\n",
    "    \n",
    "    # Extract text from each page and store it in a variable\n",
    "    pdf_text = \"\"\n",
    "    for page in reader.pages:\n",
    "        pdf_text += page.extract_text() + \"\\n\"  # Adding a newline for separation between pages\n",
    "  \n",
    "    text = pdf_text.replace(\"\\n\", \" \")\n",
    "    \n",
    "    return text\n",
    "    #return page"
   ]
  },
  {
   "cell_type": "markdown",
   "id": "d06946fa-0edf-4c84-a502-5805ee7da305",
   "metadata": {},
   "source": [
    "# Reading PDF reports and remove sensitive data"
   ]
  },
  {
   "cell_type": "code",
   "execution_count": 1,
   "id": "eafb9c74-bc21-4c75-b78f-c0b7e5fa186f",
   "metadata": {},
   "outputs": [],
   "source": [
    "from PyPDF2 import PdfReader\n",
    "def read_pdf(file_path):\n",
    "    # Initialize the reader for the PDF file\n",
    "    \n",
    "    reader = PdfReader(file_path)\n",
    "    \n",
    "    # Extract text from each page and store it in a variable\n",
    "    pdf_text = \"\"\n",
    "    for page in reader.pages:\n",
    "        pdf_text += page.extract_text() + \"\\n\"  # Adding a newline for separation between pages\n",
    "  \n",
    "    text = pdf_text.replace(\"\\n\", \" \")\n",
    "    \n",
    "    return text\n",
    "    #return page"
   ]
  },
  {
   "cell_type": "code",
   "execution_count": 2,
   "id": "ee0b91ca-5ed2-4177-a2b1-94320a6c151d",
   "metadata": {},
   "outputs": [],
   "source": [
    "import re\n",
    "def remove_sensitive(text):\n",
    "    text = re.sub(r\"Patient\\s+Name\\s+:\\s+.*?\\s+(?=Patient\\s+ID)\", \"\", text)#removing patient name\n",
    "    text = re.sub(r\"Referring\\s+Physician\\s+.*?\\s+Report\", \"Report\", text)\n",
    "    text = re.sub(r\"Dr [A-Za-z\\s]+MD\\s*|Reg No:\\s*\\d+\", \"\", text).strip()\n",
    "    return text\n"
   ]
  },
  {
   "cell_type": "markdown",
   "id": "27fe0c51-a212-403e-b1c8-34f042a87249",
   "metadata": {},
   "source": [
    "# Creating field for json and removing other sensitive data"
   ]
  },
  {
   "cell_type": "code",
   "execution_count": 3,
   "id": "0683046c-7067-48a9-aed3-befa99815cbe",
   "metadata": {},
   "outputs": [],
   "source": [
    "import re\n",
    "import json\n",
    "def text_json(extracted_data):\n",
    "# Regex patterns to extract fields\n",
    "    patterns = {\n",
    "        \"Patient ID\": r\"Patient\\s+ID\\s*:\\s*(\\S+)\",\n",
    "        \"Date\": r\"Report\\s+Date\\s+/ Time\\s+:\\s+(\\d{1,2}\\s+\\w+\\s+\\d{4})\",\n",
    "        \"Time\": r\"(\\d{2}:\\d{2}:\\d{2})\",\n",
    "        \"Patient age\": r\"Patient\\s+age\\s+/\\s+Sex\\s+:\\s+(\\d{3}Y)\",\n",
    "        \"Sex\": r\"Sex\\s*:\\s*\\d{3}[A-Za-z]*\\s*/\\s*(\\w)\",\n",
    "        \"TECHNIQUE\": r\"TECHNIQUE\\s*:\\s*(.*?)\\s*FINDINGS\",\n",
    "        \"FINDINGS\": r\"FINDINGS\\s*:\\s*(.*?)\\s*IMPRESSION\",\n",
    "        \"IMPRESSION\": r\"IMPRESSION\\s*:\\s*(.*)\"\n",
    "    }\n",
    "    \n",
    "    # Extract fields using regex\n",
    "    data = {}\n",
    "    for key, pattern in patterns.items():\n",
    "        match = re.search(pattern, extracted_data, re.DOTALL)\n",
    "        if match:\n",
    "            data[key] = match.group(1).strip()\n",
    "    \n",
    "    # removes the unwanted portion from the \"FINDINGS\" and \"IMPRESSION\" field while keeping the rest of the content intact.\n",
    "    try:\n",
    "        findings = data[\"FINDINGS\"]\n",
    "        impression = data[\"IMPRESSION\"]\n",
    "        updated_findings = re.sub(r\"Patient\\s+ID\\s*:\\s*(\\S+).*Report\\s+Date\\s+/ Time\\s+:\\s+(\\d{1,2}\\s+\\w+\\s+\\d{4})\\s*(\\S+)\", \"\", findings).strip()\n",
    "        updated_impression = re.sub(r\"Patient\\s+ID\\s*:\\s*(\\S+).*Report\\s+Date\\s+/ Time\\s+:\\s+(\\d{1,2}\\s+\\w+\\s+\\d{4})\\s*(\\S+)\", \"\", impression).strip()\n",
    "\n",
    "        # Update the Data\n",
    "        data[\"FINDINGS\"] = updated_findings\n",
    "        data[\"IMPRESSION\"] = updated_impression\n",
    "    except:\n",
    "        print(\"no unwanted found\")\n",
    "    # Update the JSON\n",
    "    json_data = json.dumps(data, indent=4)\n",
    "    \n",
    "    return json_data\n",
    "    "
   ]
  },
  {
   "cell_type": "code",
   "execution_count": 4,
   "id": "cf2d347f-6edc-4201-8e3f-ef8614266523",
   "metadata": {},
   "outputs": [
    {
     "name": "stdout",
     "output_type": "stream",
     "text": [
      "{\n",
      "    \"Patient ID\": \"MR0000444444\",\n",
      "    \"Date\": \"20 April  2020\",\n",
      "    \"Time\": \"10:16:04\",\n",
      "    \"Patient age\": \"075Y\",\n",
      "    \"Sex\": \"M\",\n",
      "    \"TECHNIQUE\": \"T2 FSE Axials  / Sagittals  & Coronals.   T1 &T2  FLAIR  Axials.  DWI,  GRE  Axials.    3D TOF  MR Angiography  of Intracranial  Arteries.\",\n",
      "    \"FINDINGS\": \"Large wedge shaped lesion with restricted diffusion low ADC values and hyperintensities  in T2 & FLAIR images noted involving capsuloganglionic region, parietal lobe, adjacent  frontal insular cortex, temporal lobe in right side.   Focal FLAIR hyperintensities without restricted diffusion in bilateral posterior  periventricular wh ite matter, left corona radiata and centrum semiovale.   Curvilinear  blooming  SWI hypointensities  in distal  right  MCA.   Cerebellum, 4th ventricle, brain stem & CP angle regions are within normal limits.  Sella, suprasellar & parasellar areas are normal.   The ex tracerebral spaces and supratentorial ventricular system are normal.  Rest of the cerebral parenchyma is normal is normal.   Midline structures and corpus callosum are normal.  No haemorrhagic pathology.   No extraaxial  collection  seen.   MR Angiography  shows :  Hypoplastic  left vertebral  artery.   Distal  left vertebral  artery  not well visualised.   Focal  mild stenosis  in basilar  artery  in P1 segment  of left PCA.        Non visualisation  of distal  2/3rds  of right  MCA  and distal  right  MCA  branches.   Bilateral intracranial internal carotid arteries, anterior & left middle cerebral arteries  and their branches are normal in caliber/flow signal.   Otherwise basilar artery, bilateral posterior cerebral, superior cerebellar and anterior  inferior cerebellar arteries are normal in ca liber and course.   Right vertebral artery is normal in calibre and flow signal.  No aneurysm / AVM seen.\",\n",
      "    \"IMPRESSION\": \"* Large acute non haemorrhagic infract in right MCA territory involving  capsuloganglionic region,  parietal lobe, adjacent frontal insular corte x,  temporal lobe in right side.   * Curvilinear thrombus in distal right MCA causing occlusion and non  visualisation of distal right MCA and right MCA distal branches.   * Chronic ischemic demylenation in bilateral posterior periventricular white  matter, left coro na radiata and centrum semiovale.   * Hyoplastic  left vertebral  artery.  Distal  left vertebral  artery  not well visualised   - ? Due to occlusion  / ? Very  slow  flow status.   * Focal  mild  stenosis  in basilar  artery  in P1 segment  of left PCA.       Consultant Radiologist\"\n",
      "}\n"
     ]
    }
   ],
   "source": [
    "file_path = r\"D:\\LLM RAG\\Data\\MO.pdf\"\n",
    "print(text_json(remove_sensitive(read_pdf(file_path))))"
   ]
  },
  {
   "cell_type": "markdown",
   "id": "9b0dc7e8-0e28-4e1e-814b-915ab8f613d8",
   "metadata": {},
   "source": [
    "# Processing multiple pdf file for chromadb format"
   ]
  },
  {
   "cell_type": "code",
   "execution_count": 5,
   "id": "6f63da21-07cb-4dab-b8ad-2bbe32cf0549",
   "metadata": {},
   "outputs": [
    {
     "name": "stdout",
     "output_type": "stream",
     "text": [
      "D:/LLM RAG/Data/MO.pdf\n",
      "D:/LLM RAG/Data/RA.pdf\n",
      "D:/LLM RAG/Data/VA.pdf\n"
     ]
    }
   ],
   "source": [
    "# Process all PDF files in the folder\n",
    "import os\n",
    "folder_path = r\"D:/LLM RAG/Data/\"\n",
    "all_data = []\n",
    "for filename in os.listdir(folder_path):\n",
    "    if filename.endswith(\".pdf\"):\n",
    "        pdf_path = os.path.join(folder_path, filename)\n",
    "        print(pdf_path)\n",
    "        extracted_data = read_pdf(pdf_path)\n",
    "        remove_sensitive_data = remove_sensitive(extracted_data)\n",
    "        extracted_json = text_json(remove_sensitive_data)\n",
    "        ## Parse the JSON strings into dictionaries and append to the list\n",
    "        all_data.append(json.loads(extracted_json))\n",
    "#print(all_data)"
   ]
  },
  {
   "cell_type": "code",
   "execution_count": 6,
   "id": "0016e371-f0b3-4f6d-889e-6cf3cc43536c",
   "metadata": {},
   "outputs": [
    {
     "data": {
      "text/plain": [
       "[{'Patient ID': 'MR0000444444',\n",
       "  'Date': '20 April  2020',\n",
       "  'Time': '10:16:04',\n",
       "  'Patient age': '075Y',\n",
       "  'Sex': 'M',\n",
       "  'TECHNIQUE': 'T2 FSE Axials  / Sagittals  & Coronals.   T1 &T2  FLAIR  Axials.  DWI,  GRE  Axials.    3D TOF  MR Angiography  of Intracranial  Arteries.',\n",
       "  'FINDINGS': 'Large wedge shaped lesion with restricted diffusion low ADC values and hyperintensities  in T2 & FLAIR images noted involving capsuloganglionic region, parietal lobe, adjacent  frontal insular cortex, temporal lobe in right side.   Focal FLAIR hyperintensities without restricted diffusion in bilateral posterior  periventricular wh ite matter, left corona radiata and centrum semiovale.   Curvilinear  blooming  SWI hypointensities  in distal  right  MCA.   Cerebellum, 4th ventricle, brain stem & CP angle regions are within normal limits.  Sella, suprasellar & parasellar areas are normal.   The ex tracerebral spaces and supratentorial ventricular system are normal.  Rest of the cerebral parenchyma is normal is normal.   Midline structures and corpus callosum are normal.  No haemorrhagic pathology.   No extraaxial  collection  seen.   MR Angiography  shows :  Hypoplastic  left vertebral  artery.   Distal  left vertebral  artery  not well visualised.   Focal  mild stenosis  in basilar  artery  in P1 segment  of left PCA.        Non visualisation  of distal  2/3rds  of right  MCA  and distal  right  MCA  branches.   Bilateral intracranial internal carotid arteries, anterior & left middle cerebral arteries  and their branches are normal in caliber/flow signal.   Otherwise basilar artery, bilateral posterior cerebral, superior cerebellar and anterior  inferior cerebellar arteries are normal in ca liber and course.   Right vertebral artery is normal in calibre and flow signal.  No aneurysm / AVM seen.',\n",
       "  'IMPRESSION': '* Large acute non haemorrhagic infract in right MCA territory involving  capsuloganglionic region,  parietal lobe, adjacent frontal insular corte x,  temporal lobe in right side.   * Curvilinear thrombus in distal right MCA causing occlusion and non  visualisation of distal right MCA and right MCA distal branches.   * Chronic ischemic demylenation in bilateral posterior periventricular white  matter, left coro na radiata and centrum semiovale.   * Hyoplastic  left vertebral  artery.  Distal  left vertebral  artery  not well visualised   - ? Due to occlusion  / ? Very  slow  flow status.   * Focal  mild  stenosis  in basilar  artery  in P1 segment  of left PCA.       Consultant Radiologist'},\n",
       " {'Patient ID': 'MR0000222222',\n",
       "  'Date': '20 April  2020',\n",
       "  'Time': '11:19:02',\n",
       "  'Patient age': '062Y',\n",
       "  'Sex': 'M',\n",
       "  'TECHNIQUE': 'T2 FSE Axials  / Sagittals  & Coronals.   T1 &T2  FLAIR  Axials.  DWI,  GRE  Axials.   3D TOF  MR Angiography  of Intracranial  Arteries.',\n",
       "  'FINDINGS': 'Wedge shaped lesion showing restricted diffusion, low ADC values and slightly  hyperintense on FLAIR images involving right side parietal lobe, insular cortex, adjacent  frontal lobe and capsuloganglionic region.   Small lesions in parafalcine inferior both occipital lobes is hypointense on T1,  predominantly hypointense with adjacent hyperintensities on FLAIR and hyperintense on  T2 WI.   Lacunar FLAIR hyperintensities without restricted diffusion in right side anterior  corona  radiata.   Mega  cisterna  magna  seen - Normal  variant.   Cerebellum, 4th ventricle, brain stem & CP angle regions are within normal limits.  Sella, suprasellar & parasellar areas are normal.   The extracerebral spaces and supratentorial ventricular system are normal.  Rest of the cerebral parenchyma is normal.   Midline  structures  and corpus  callosum  are normal.   No haemorrhagic pathology. No extraaxial collection seen.  MR Angiography shows : (Patient is not cooperative)   Distal right MCA branches are not well visualized.   Small  stenotic  segment  in distal  left MCA.   Mild  stenosis  seen in cavernous  and infrapetrous  parts  of right  ICA.         Fetal  type of A1 segment  of right  ACA  -- Normal  varient.   Hypoplastic  right  vertebral  artery.   Left internal  carotid,  right  MCA  and rest of the left MCA  are normal  in caliber.   Bilateral intracranial anterior cerebral arteries and their branches are normal in caliber/flow  signal.   The basilar artery, bilateral posterior cerebral, superior cerebellar and anterior inferior  cerebellar arteries are norm al in caliber and course.   Left vertebral artery is normal in calibre and flow signal.  No aneurysm / AVM seen.',\n",
       "  'IMPRESSION': '* Non hemorrhagic hyperacute on acute infarct in right MCA territory,  involving right side parietal lobe, insular cortex, adjacent frontal lobe and  capsuloganglionic region.   * Small  lesions  of gliosis  / old infarcts  in parafalcine  inferior  both  occipital  lobes .  * Focal chronic infarct with residual chronic ischemic demyelination in right  side anterior corona radiata.   * Distal right MCA branches are not well visualized, possible due to slow flow  status / occlusion.   * Small  stenotic  segment  in distal  left MCA.   * Mild  stenosis  in cavernous  and infrapetrous  parts  of right  ICA.   * Hypoplastic  right  vertebral  artery.       Consultant Radiologist'},\n",
       " {'Patient ID': 'IP0000111111',\n",
       "  'Date': '20 April  2021',\n",
       "  'Patient age': '067Y',\n",
       "  'Sex': 'M',\n",
       "  'TECHNIQUE': 'T1, T2 & FLAIR  Axials,T2  Saggitals  / Coronals.  DWI  Axials.   Clinical  details  : S/p CABG  for CAD.',\n",
       "  'FINDINGS': 'Evidence of multiple lacunar &  tiny sized lesions with restricted diffusion and low ADC  values are hyperintense on FLAIR images noted in both cerebellar hemispheres, occipital  lobes and parietooccipital regions (including right side of splenium of corpus callosum),  left posterior periv entricular white matter, left posterior temporal lobe, left frontal corona  radiata & centrum semiovale, left high parietal cortex and right side corona radiata,  centrum semiovale and high parietal cortex and as a tiny lesion in lateral wall of the   frontal horn of right lateral ventricle.   Rest of the cerebral  parenchyma  is normal.   Both  lateral  and third  ventricles  are mildly  dilated.   Bilateral sylvian fissures, cerebral sulcal spaces and basi cisternal spaces are widened.  Pons, medulla and midbrain are normal.   No shift of midline  structures.   Pituitary gland, infundibulum and optic chiasm are normal.  No hemorrhagic pathology.   Screening  MR Angio  : Normal  major  intracranial  arteries.    :04',\n",
       "  'IMPRESSION': '* Multiple tiny & lacunar sized non hemorrhagic acute infarcts in bilateral  cerebellar hemispheres, occipital lobes &  parietooccipital regions (including  right side of splenium of corpus callosum), left sided posterior periventricular  white matter, posterior temporal lobe, frontal corona radiata, centrum  semiovale, high parietal cortex and right sided corona radiata, cen trum  semiovale, high parietal cortex and lateral wall of the frontal horn of right  lateral ventricle -- Embolic etiology.   * Age related  mild  cerebral  atrophy.       For clinical  correlation.         Consultant Radiologist'}]"
      ]
     },
     "execution_count": 6,
     "metadata": {},
     "output_type": "execute_result"
    }
   ],
   "source": [
    "all_data"
   ]
  },
  {
   "cell_type": "markdown",
   "id": "09459700-87bc-48bf-8a80-c4076b43f45a",
   "metadata": {},
   "source": [
    "# Converting JSON to ChromaDB format"
   ]
  },
  {
   "cell_type": "code",
   "execution_count": 9,
   "id": "0f0a90c7-523e-43d7-810d-a5cb13f95926",
   "metadata": {},
   "outputs": [],
   "source": [
    "from langchain.schema import Document\n",
    "\n",
    "documents = [\n",
    "    Document(page_content=f\"{item['Patient ID']} {item['Patient age']} {item['Sex']} {item['TECHNIQUE']} {item['FINDINGS']} {item['IMPRESSION']}\", metadata={})\n",
    "    for item in all_data\n",
    "]\n"
   ]
  },
  {
   "cell_type": "code",
   "execution_count": 10,
   "id": "c6493071-8e88-4121-a957-905ed5d3b433",
   "metadata": {},
   "outputs": [
    {
     "name": "stdout",
     "output_type": "stream",
     "text": [
      "Page Content: MR0000444444 075Y M T2 FSE Axials  / Sagittals  & Coronals.   T1 &T2  FLAIR  Axials.  DWI,  GRE  Axials.    3D TOF  MR Angiography  of Intracranial  Arteries. Large wedge shaped lesion with restricted diffusion low ADC values and hyperintensities  in T2 & FLAIR images noted involving capsuloganglionic region, parietal lobe, adjacent  frontal insular cortex, temporal lobe in right side.   Focal FLAIR hyperintensities without restricted diffusion in bilateral posterior  periventricular wh ite matter, left corona radiata and centrum semiovale.   Curvilinear  blooming  SWI hypointensities  in distal  right  MCA.   Cerebellum, 4th ventricle, brain stem & CP angle regions are within normal limits.  Sella, suprasellar & parasellar areas are normal.   The ex tracerebral spaces and supratentorial ventricular system are normal.  Rest of the cerebral parenchyma is normal is normal.   Midline structures and corpus callosum are normal.  No haemorrhagic pathology.   No extraaxial  collection  seen.   MR Angiography  shows :  Hypoplastic  left vertebral  artery.   Distal  left vertebral  artery  not well visualised.   Focal  mild stenosis  in basilar  artery  in P1 segment  of left PCA.        Non visualisation  of distal  2/3rds  of right  MCA  and distal  right  MCA  branches.   Bilateral intracranial internal carotid arteries, anterior & left middle cerebral arteries  and their branches are normal in caliber/flow signal.   Otherwise basilar artery, bilateral posterior cerebral, superior cerebellar and anterior  inferior cerebellar arteries are normal in ca liber and course.   Right vertebral artery is normal in calibre and flow signal.  No aneurysm / AVM seen. * Large acute non haemorrhagic infract in right MCA territory involving  capsuloganglionic region,  parietal lobe, adjacent frontal insular corte x,  temporal lobe in right side.   * Curvilinear thrombus in distal right MCA causing occlusion and non  visualisation of distal right MCA and right MCA distal branches.   * Chronic ischemic demylenation in bilateral posterior periventricular white  matter, left coro na radiata and centrum semiovale.   * Hyoplastic  left vertebral  artery.  Distal  left vertebral  artery  not well visualised   - ? Due to occlusion  / ? Very  slow  flow status.   * Focal  mild  stenosis  in basilar  artery  in P1 segment  of left PCA.       Consultant Radiologist, Metadata: {}\n",
      "Page Content: MR0000222222 062Y M T2 FSE Axials  / Sagittals  & Coronals.   T1 &T2  FLAIR  Axials.  DWI,  GRE  Axials.   3D TOF  MR Angiography  of Intracranial  Arteries. Wedge shaped lesion showing restricted diffusion, low ADC values and slightly  hyperintense on FLAIR images involving right side parietal lobe, insular cortex, adjacent  frontal lobe and capsuloganglionic region.   Small lesions in parafalcine inferior both occipital lobes is hypointense on T1,  predominantly hypointense with adjacent hyperintensities on FLAIR and hyperintense on  T2 WI.   Lacunar FLAIR hyperintensities without restricted diffusion in right side anterior  corona  radiata.   Mega  cisterna  magna  seen - Normal  variant.   Cerebellum, 4th ventricle, brain stem & CP angle regions are within normal limits.  Sella, suprasellar & parasellar areas are normal.   The extracerebral spaces and supratentorial ventricular system are normal.  Rest of the cerebral parenchyma is normal.   Midline  structures  and corpus  callosum  are normal.   No haemorrhagic pathology. No extraaxial collection seen.  MR Angiography shows : (Patient is not cooperative)   Distal right MCA branches are not well visualized.   Small  stenotic  segment  in distal  left MCA.   Mild  stenosis  seen in cavernous  and infrapetrous  parts  of right  ICA.         Fetal  type of A1 segment  of right  ACA  -- Normal  varient.   Hypoplastic  right  vertebral  artery.   Left internal  carotid,  right  MCA  and rest of the left MCA  are normal  in caliber.   Bilateral intracranial anterior cerebral arteries and their branches are normal in caliber/flow  signal.   The basilar artery, bilateral posterior cerebral, superior cerebellar and anterior inferior  cerebellar arteries are norm al in caliber and course.   Left vertebral artery is normal in calibre and flow signal.  No aneurysm / AVM seen. * Non hemorrhagic hyperacute on acute infarct in right MCA territory,  involving right side parietal lobe, insular cortex, adjacent frontal lobe and  capsuloganglionic region.   * Small  lesions  of gliosis  / old infarcts  in parafalcine  inferior  both  occipital  lobes .  * Focal chronic infarct with residual chronic ischemic demyelination in right  side anterior corona radiata.   * Distal right MCA branches are not well visualized, possible due to slow flow  status / occlusion.   * Small  stenotic  segment  in distal  left MCA.   * Mild  stenosis  in cavernous  and infrapetrous  parts  of right  ICA.   * Hypoplastic  right  vertebral  artery.       Consultant Radiologist, Metadata: {}\n",
      "Page Content: IP0000111111 067Y M T1, T2 & FLAIR  Axials,T2  Saggitals  / Coronals.  DWI  Axials.   Clinical  details  : S/p CABG  for CAD. Evidence of multiple lacunar &  tiny sized lesions with restricted diffusion and low ADC  values are hyperintense on FLAIR images noted in both cerebellar hemispheres, occipital  lobes and parietooccipital regions (including right side of splenium of corpus callosum),  left posterior periv entricular white matter, left posterior temporal lobe, left frontal corona  radiata & centrum semiovale, left high parietal cortex and right side corona radiata,  centrum semiovale and high parietal cortex and as a tiny lesion in lateral wall of the   frontal horn of right lateral ventricle.   Rest of the cerebral  parenchyma  is normal.   Both  lateral  and third  ventricles  are mildly  dilated.   Bilateral sylvian fissures, cerebral sulcal spaces and basi cisternal spaces are widened.  Pons, medulla and midbrain are normal.   No shift of midline  structures.   Pituitary gland, infundibulum and optic chiasm are normal.  No hemorrhagic pathology.   Screening  MR Angio  : Normal  major  intracranial  arteries.    :04 * Multiple tiny & lacunar sized non hemorrhagic acute infarcts in bilateral  cerebellar hemispheres, occipital lobes &  parietooccipital regions (including  right side of splenium of corpus callosum), left sided posterior periventricular  white matter, posterior temporal lobe, frontal corona radiata, centrum  semiovale, high parietal cortex and right sided corona radiata, cen trum  semiovale, high parietal cortex and lateral wall of the frontal horn of right  lateral ventricle -- Embolic etiology.   * Age related  mild  cerebral  atrophy.       For clinical  correlation.         Consultant Radiologist, Metadata: {}\n"
     ]
    }
   ],
   "source": [
    "# Verify the result\n",
    "for doc in documents:\n",
    "    print(f\"Page Content: {doc.page_content}, Metadata: {doc.metadata}\")"
   ]
  },
  {
   "cell_type": "markdown",
   "id": "9fe219a7-37df-4a70-849f-a242ca30e457",
   "metadata": {},
   "source": [
    "# Creating chunks from document from chromaDB (vector database)\n",
    "# Using all-MiniLM-L6-v2 embedings\n",
    "# Saving the data into chromaDB"
   ]
  },
  {
   "cell_type": "code",
   "execution_count": 11,
   "id": "8041d84c-d983-4264-8d91-792f9d65949a",
   "metadata": {},
   "outputs": [
    {
     "name": "stderr",
     "output_type": "stream",
     "text": [
      "C:\\Users\\bhowm\\.conda\\envs\\bioinfo\\Lib\\site-packages\\langchain_core\\_api\\deprecation.py:139: LangChainDeprecationWarning: The class `HuggingFaceEmbeddings` was deprecated in LangChain 0.2.2 and will be removed in 0.3.0. An updated version of the class exists in the langchain-huggingface package and should be used instead. To use it run `pip install -U langchain-huggingface` and import as `from langchain_huggingface import HuggingFaceEmbeddings`.\n",
      "  warn_deprecated(\n",
      "C:\\Users\\bhowm\\.conda\\envs\\bioinfo\\Lib\\site-packages\\tqdm\\auto.py:21: TqdmWarning: IProgress not found. Please update jupyter and ipywidgets. See https://ipywidgets.readthedocs.io/en/stable/user_install.html\n",
      "  from .autonotebook import tqdm as notebook_tqdm\n"
     ]
    },
    {
     "name": "stdout",
     "output_type": "stream",
     "text": [
      "✅ Data has been successfully inserted into ChromaDB!\n"
     ]
    },
    {
     "name": "stderr",
     "output_type": "stream",
     "text": [
      "C:\\Users\\bhowm\\.conda\\envs\\bioinfo\\Lib\\site-packages\\langchain_core\\_api\\deprecation.py:139: LangChainDeprecationWarning: Since Chroma 0.4.x the manual persistence method is no longer supported as docs are automatically persisted.\n",
      "  warn_deprecated(\n"
     ]
    }
   ],
   "source": [
    "from langchain.vectorstores import Chroma\n",
    "from langchain.embeddings import HuggingFaceEmbeddings\n",
    "from langchain.document_loaders import JSONLoader\n",
    "from langchain.text_splitter import RecursiveCharacterTextSplitter\n",
    "\n",
    "# -------------------------------\n",
    "# 1. Load JSON Data\n",
    "# -------------------------------\n",
    "\n",
    "#documents = loader.load()\n",
    "\n",
    "# -------------------------------\n",
    "# 2. Split Data into Chunks (Optional for Large Content)\n",
    "# -------------------------------\n",
    "text_splitter = RecursiveCharacterTextSplitter(chunk_size=500, chunk_overlap=50)\n",
    "split_documents = text_splitter.split_documents(documents)\n",
    "\n",
    "# -------------------------------\n",
    "# 3. Use Hugging Face Embeddings (all-MiniLM-L6-v2)\n",
    "# -------------------------------\n",
    "embedding_model_name = \"sentence-transformers/all-MiniLM-L6-v2\"\n",
    "embeddings = HuggingFaceEmbeddings(model_name=embedding_model_name)\n",
    "\n",
    "# -------------------------------\n",
    "# 4. Store Embeddings in ChromaDB\n",
    "# -------------------------------\n",
    "chroma_db4 = Chroma.from_documents(split_documents, embeddings, persist_directory=\"./chroma_sample_db\")\n",
    "\n",
    "# Save embeddings to the ChromaDB directory\n",
    "chroma_db4.persist()\n",
    "print(\"✅ Data has been successfully inserted into ChromaDB!\")"
   ]
  },
  {
   "cell_type": "code",
   "execution_count": 12,
   "id": "cc95e354-2bec-49ec-a0cd-21c7b1da6693",
   "metadata": {},
   "outputs": [
    {
     "data": {
      "text/plain": [
       "HuggingFaceEmbeddings(client=SentenceTransformer(\n",
       "  (0): Transformer({'max_seq_length': 256, 'do_lower_case': False}) with Transformer model: BertModel \n",
       "  (1): Pooling({'word_embedding_dimension': 384, 'pooling_mode_cls_token': False, 'pooling_mode_mean_tokens': True, 'pooling_mode_max_tokens': False, 'pooling_mode_mean_sqrt_len_tokens': False, 'pooling_mode_weightedmean_tokens': False, 'pooling_mode_lasttoken': False, 'include_prompt': True})\n",
       "  (2): Normalize()\n",
       "), model_name='sentence-transformers/all-MiniLM-L6-v2', cache_folder=None, model_kwargs={}, encode_kwargs={}, multi_process=False, show_progress=False)"
      ]
     },
     "execution_count": 12,
     "metadata": {},
     "output_type": "execute_result"
    }
   ],
   "source": [
    "embeddings"
   ]
  },
  {
   "cell_type": "markdown",
   "id": "70d5277d-1485-4333-8104-b9ef1b478080",
   "metadata": {},
   "source": [
    "# Test Queries"
   ]
  },
  {
   "cell_type": "code",
   "execution_count": 14,
   "id": "183432f3-4b64-4115-acef-87dd2b2efddd",
   "metadata": {},
   "outputs": [
    {
     "name": "stdout",
     "output_type": "stream",
     "text": [
      "🔍 Query: Patient is non-cooperative\n",
      "💡 Result 1: are normal.  Rest of the cerebral parenchyma is normal.   Midline  structures  and corpus  callosum  are normal.   No haemorrhagic pathology. No extraaxial collection seen.  MR Angiography shows : (Patient is not cooperative)   Distal right MCA branches are not well visualized.   Small  stenotic  segment  in distal  left MCA.   Mild  stenosis  seen in cavernous  and infrapetrous  parts  of right  ICA.         Fetal  type of A1 segment  of right  ACA  -- Normal  varient.   Hypoplastic  right\n",
      "💡 Result 2: MCA branches are not well visualized, possible due to slow flow  status / occlusion.   * Small  stenotic  segment  in distal  left MCA.   * Mild  stenosis  in cavernous  and infrapetrous  parts  of right  ICA.   * Hypoplastic  right  vertebral  artery.       Consultant Radiologist\n",
      "--------------------------------------------------\n"
     ]
    }
   ],
   "source": [
    "# Test Queries\n",
    "retriever = chroma_db4.as_retriever()\n",
    "test_queries = [\"Patient is non-cooperative\"]\n",
    "\n",
    "# Run Queries\n",
    "for query in test_queries:\n",
    "    results = retriever.get_relevant_documents(query,k=2)\n",
    "    print(f\"🔍 Query: {query}\")\n",
    "    \n",
    "    for i, doc in enumerate(results[:2]):  # Limit to top 2 results\n",
    "        print(f\"💡 Result {i+1}: {doc.page_content}\")\n",
    "    print(\"-\" * 50)\n"
   ]
  },
  {
   "cell_type": "code",
   "execution_count": null,
   "id": "bb1412a4-b737-4361-b30c-60de469d9304",
   "metadata": {},
   "outputs": [],
   "source": []
  },
  {
   "cell_type": "code",
   "execution_count": 13,
   "id": "8224eb14-2b06-4452-8af8-5f9388c8ab0d",
   "metadata": {},
   "outputs": [
    {
     "name": "stdout",
     "output_type": "stream",
     "text": [
      "Collecting nltk\n",
      "  Downloading nltk-3.9.1-py3-none-any.whl.metadata (2.9 kB)\n",
      "Requirement already satisfied: click in c:\\users\\bhowm\\appdata\\roaming\\python\\python312\\site-packages (from nltk) (8.1.7)\n",
      "Requirement already satisfied: joblib in c:\\users\\bhowm\\.conda\\envs\\bioinfo\\lib\\site-packages (from nltk) (1.4.2)\n",
      "Requirement already satisfied: regex>=2021.8.3 in c:\\users\\bhowm\\.conda\\envs\\bioinfo\\lib\\site-packages (from nltk) (2024.11.6)\n",
      "Requirement already satisfied: tqdm in c:\\users\\bhowm\\.conda\\envs\\bioinfo\\lib\\site-packages (from nltk) (4.67.1)\n",
      "Requirement already satisfied: colorama in c:\\users\\bhowm\\.conda\\envs\\bioinfo\\lib\\site-packages (from click->nltk) (0.4.6)\n",
      "Downloading nltk-3.9.1-py3-none-any.whl (1.5 MB)\n",
      "   ---------------------------------------- 0.0/1.5 MB ? eta -:--:--\n",
      "   ---------------------------------------- 1.5/1.5 MB 8.8 MB/s eta 0:00:00\n",
      "Installing collected packages: nltk\n",
      "Successfully installed nltk-3.9.1\n",
      "Note: you may need to restart the kernel to use updated packages.\n"
     ]
    }
   ],
   "source": [
    "pip install nltk"
   ]
  },
  {
   "cell_type": "code",
   "execution_count": 14,
   "id": "af1dea75-6648-442c-9874-9b0a00c4e217",
   "metadata": {},
   "outputs": [
    {
     "name": "stdout",
     "output_type": "stream",
     "text": [
      "💡 Result 1: are normal.  Rest of the cerebral parenchyma is normal.   Midline  structures  and corpus  callosum  are normal.   No haemorrhagic pathology. No extraaxial collection seen.  MR Angiography shows : (Patient is not cooperative)   Distal right MCA branches are not well visualized.   Small  stenotic  segment  in distal  left MCA.   Mild  stenosis  seen in cavernous  and infrapetrous  parts  of right  ICA.         Fetal  type of A1 segment  of right  ACA  -- Normal  varient.   Hypoplastic  right\n",
      "🔹 BLEU Score: 0.0278\n",
      "--------------------------------------------------\n"
     ]
    },
    {
     "name": "stderr",
     "output_type": "stream",
     "text": [
      "[nltk_data] Downloading package punkt to\n",
      "[nltk_data]     C:\\Users\\bhowm\\AppData\\Roaming\\nltk_data...\n",
      "[nltk_data]   Package punkt is already up-to-date!\n"
     ]
    }
   ],
   "source": [
    "import nltk\n",
    "from nltk.translate.bleu_score import sentence_bleu, SmoothingFunction\n",
    "\n",
    "# Ensure NLTK components are available\n",
    "nltk.download('punkt')\n",
    "\n",
    "# Define a reference document (ground truth)\n",
    "reference_text = \"Patient is not cooperative\"\n",
    "reference_tokens = [nltk.word_tokenize(reference_text.lower())]  # Tokenize & lowercase\n",
    "\n",
    "# Test Query\n",
    "test_query = \"Patient is not cooperative\"\n",
    "\n",
    "# Retrieve relevant documents\n",
    "results = retriever.get_relevant_documents(test_query, k=1)\n",
    "\n",
    "# Compute BLEU Score for each retrieved document\n",
    "for i, doc in enumerate(results[:1]):  # Top 2 results\n",
    "    candidate_tokens = nltk.word_tokenize(doc.page_content.lower())  # Tokenize candidate\n",
    "    bleu_score = sentence_bleu(reference_tokens, candidate_tokens, \n",
    "                               smoothing_function=SmoothingFunction().method1)\n",
    "\n",
    "    print(f\"💡 Result {i+1}: {doc.page_content}\")\n",
    "    print(f\"🔹 BLEU Score: {bleu_score:.4f}\")  # Print BLEU score\n",
    "    print(\"-\" * 50)\n"
   ]
  },
  {
   "cell_type": "code",
   "execution_count": null,
   "id": "05232d72-ca08-404d-9808-825ed7fdc189",
   "metadata": {},
   "outputs": [],
   "source": []
  }
 ],
 "metadata": {
  "kernelspec": {
   "display_name": "Python 3 (ipykernel)",
   "language": "python",
   "name": "python3"
  },
  "language_info": {
   "codemirror_mode": {
    "name": "ipython",
    "version": 3
   },
   "file_extension": ".py",
   "mimetype": "text/x-python",
   "name": "python",
   "nbconvert_exporter": "python",
   "pygments_lexer": "ipython3",
   "version": "3.12.7"
  }
 },
 "nbformat": 4,
 "nbformat_minor": 5
}
